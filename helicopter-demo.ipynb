{
 "cells": [
  {
   "cell_type": "markdown",
   "metadata": {},
   "source": [
    "# Demo Lesson: Helicopter Drop"
   ]
  },
  {
   "cell_type": "code",
   "execution_count": null,
   "metadata": {},
   "outputs": [],
   "source": [
    "# Run this cell to set up the notebook, but please don't change it.\n",
    "\n",
    "# These lines import the Numpy and Datascience modules.\n",
    "import numpy as np\n",
    "from datascience import *\n",
    "\n",
    "# These lines do some fancy plotting\n",
    "import matplotlib\n",
    "%matplotlib inline\n",
    "import matplotlib.pyplot as plt\n",
    "plt.style.use('fivethirtyeight')"
   ]
  },
  {
   "cell_type": "markdown",
   "metadata": {},
   "source": [
    "## 1. A/B Testing\n",
    "\n",
    "A/B testing is a form of hypothesis testing that allows you to make comparisons between two distributions.\n",
    "\n",
    "You'll almost never be explicitly asked to perform an A/B test. Make sure you can identify situations where the test is appropriate and know how to correctly implement each step."
   ]
  },
  {
   "cell_type": "markdown",
   "metadata": {},
   "source": [
    "### Question 1.1.\n",
    "\n",
    "The following statements are the unordered steps of an A/B hypothesis test:\n",
    "\n",
    "1. Choose a test statistic (typically the difference in means between two categories)\n",
    "\n",
    "2. Shuffle the labels of the original sample, find your simulated test statistic, and repeat many times\n",
    "\n",
    "3. Find the value of the observed test statistic\n",
    "\n",
    "4. Calculate the p-value based off your observed and simulated test statistics\n",
    "\n",
    "5. Define a null and alternate model\n",
    "\n",
    "6. Use the p-value and p-value cutoff to draw a conclusion about the null hypothesis\n",
    "\n",
    "Make an array called `ab_test_order` that contains the correct order of an A/B test, where the first item of the array is the first step of an A/B test and the last item of the array is the last step of an A/B test"
   ]
  },
  {
   "cell_type": "code",
   "execution_count": null,
   "metadata": {},
   "outputs": [],
   "source": [
    "ab_test_order = make_array(5, 1, 3, 2, 4, 6) # SOLUTION"
   ]
  },
  {
   "cell_type": "markdown",
   "metadata": {},
   "source": [
    "### Question 1.2\n",
    "\n",
    "If the null hypothesis of an A/B test is correct, should the order of labels affect the differences in means between each group?"
   ]
  },
  {
   "cell_type": "markdown",
   "metadata": {},
   "source": [
    "**SOLUTION:** Under the null model, there should be no statistically significant difference between the grouped means."
   ]
  },
  {
   "cell_type": "markdown",
   "metadata": {},
   "source": [
    "### Question 1.3\n",
    "\n",
    "Why do we shuffle labels in an A/B test? "
   ]
  },
  {
   "cell_type": "markdown",
   "metadata": {},
   "source": [
    "**SOLUTION:** We shuffle labels as a way to resample the original data, and understand the baseline differences between groups in the data."
   ]
  },
  {
   "cell_type": "markdown",
   "metadata": {},
   "source": [
    "## 2. Paper Helicopters\n",
    "\n",
    "The Paper Helicopter Experiment (https://www.paperhelicopterexperiment.com/) provides different templates for constructing paper helicopters that can be dropped. The designs can be modified to create helicopters with different dimensions for the wings, body, weighting, and more. In this lab you'll investigate whether the length of the rotor and the amount of weight attached to helicopter results in a different in the time it takes to fall from a 3rd floor stairwell. Do conduct your analysis, you'll use an A/B test.\n",
    "\n",
    "### The Data\n",
    "The data was collected by a group of NCSSM Online students during online weekend held October 2nd, 2021. Five groups of students dropped 143 paper helicopters in total. There were 4 unique configurations that were assigned to the groups, one per group.\n",
    "\n",
    "1. The Default: Full length (long) rotors, unweighted body\n",
    "2. The Short: Short rotors, unweighted body\n",
    "3. The Heavy: Long rotors, weighted body\n",
    "4. The Short Heavy: Short rotors, weighted body\n",
    "\n",
    "The following features were recorded for each helicopter dropped:\n",
    "* `Rotor`: Long or Short (string). Indicates if the helicopter had full length or shortened rotors.\n",
    "* `Weight`: Weighted or Unweighted (string). Indicates if the helicopter had a weighted (3 paperclips) or unweighted body.\n",
    "* `Team`: 1, 2, 3, 4, or 5 (int). Indicates which team\n",
    "* `Location`: Side A or Side B (string). Indicates which side of the building the helicopters were dropped from.\n",
    "* `Obstruction`: True or False (Boolean). Indicates if the helicopter hit the stairwell or other object on the way down.\n",
    "* `Time`: (Float). Time, measured in seconds, it took for the helicopter to hit the ground after being released.\n",
    "\n",
    "Run the following cell to load the data in as the table named `copters`."
   ]
  },
  {
   "cell_type": "code",
   "execution_count": null,
   "metadata": {},
   "outputs": [],
   "source": [
    "copters = Table.read_table('helicopters.csv')\n",
    "copters"
   ]
  },
  {
   "cell_type": "markdown",
   "metadata": {},
   "source": [
    "Due to variation in the construction, weather, and randomness of the universe not every drop for each configuration was identical. Let's explore the data a bit to see how the drop times varied."
   ]
  },
  {
   "cell_type": "markdown",
   "metadata": {},
   "source": [
    "### Question 2.1.\n",
    "\n",
    "Let's start by cleaning the data a little. This dataset has several measurements taken where the helicopter hit the stairwell, a nearby building, or some other obstruction that impacted the fall time. These results should be discarded since they wouldn't be an accurate reflection of what we're trying to measure.\n",
    "\n",
    "Create a new table called `helicopters` that only contains the rows of `copters` that correspond to a helicopter that did not hit an obstruction during the fall. Additionally, to focus our initial investigation only keep the data on those helicopters that were unweighted."
   ]
  },
  {
   "cell_type": "code",
   "execution_count": null,
   "metadata": {},
   "outputs": [],
   "source": [
    "helicopters = copters.where('Obstruction', False).where('Weight', 'Unweighted') # SOLUTION\n",
    "helicopters"
   ]
  },
  {
   "cell_type": "markdown",
   "metadata": {},
   "source": [
    "### Question 2.2\n",
    "Suppose you're interested in determining how the rotor length might impact fall time. Start by creating a histogram that displays the distribution of times for helicopters with long rotors. Use the provided bins stored to `my_bins`."
   ]
  },
  {
   "cell_type": "code",
   "execution_count": null,
   "metadata": {},
   "outputs": [],
   "source": [
    "my_bins = np.arange(2, 9.5, 0.5)\n",
    "helicopters.where('Rotor', 'Long').hist('Time', bins=my_bins ) # SOLUTION"
   ]
  },
  {
   "cell_type": "markdown",
   "metadata": {},
   "source": [
    "### Question 2.3\n",
    "\n",
    "Now, construct a histogram that shows the distribution of times for only helicopters with short rotors. Again, use the provided bins."
   ]
  },
  {
   "cell_type": "code",
   "execution_count": null,
   "metadata": {},
   "outputs": [],
   "source": [
    "my_bins = np.arange(2, 9.5, 0.5)\n",
    "helicopters.where('Rotor', 'Short').hist('Time', bins=my_bins ) # SOLUTION"
   ]
  },
  {
   "cell_type": "markdown",
   "metadata": {},
   "source": [
    "### Question 2.4\n",
    "\n",
    "It can be difficult sometimes to compare two histograms when they are on separate graphs. However, by providing the argument `group` to the `.hist()` method with the label (string) for a column you wish to group by, and it will produce a histogram for each unique group.\n",
    "\n",
    "For example, `table.hist('col_label', bins=your_bins, group='feature')` would produce a histogram for each unique group found in the `feature` column of `table`, using the numerical data in the column labeled `col` label.\n",
    "\n",
    "Running the cell below will create 2 histograms, one for each group as determined by the values in the `Rotor` column."
   ]
  },
  {
   "cell_type": "code",
   "execution_count": null,
   "metadata": {},
   "outputs": [],
   "source": [
    "my_bins = np.arange(2, 9.5, 0.5)\n",
    "helicopters.hist('Time', bins=my_bins, group=\"Rotor\" )"
   ]
  },
  {
   "cell_type": "markdown",
   "metadata": {},
   "source": [
    "You can see it's much easier to compare these two distributions now that they're on the same scale and set of axes."
   ]
  },
  {
   "cell_type": "markdown",
   "metadata": {},
   "source": [
    "## 3. The Rotor Question\n",
    "\n",
    "You might now be wondering if there is a difference between the fall times of helicopters with long (full length) vs. short rotors. It certainly appears that the distributions might be different from one another. We'll use our data to attempt to draw a conclusion using simulation."
   ]
  },
  {
   "cell_type": "markdown",
   "metadata": {},
   "source": [
    "### Question 3.1.\n",
    "\n",
    "We want to know whether the shortening the rotor length **causes** a change in the fall time.  \n",
    "\n",
    "Why is it not sufficient to compare fall times of the helicopters with short rotors and those with long rotors?"
   ]
  },
  {
   "cell_type": "markdown",
   "metadata": {},
   "source": [
    "**SOLUTION:** Only comparing fall times to each other is not a randomized control experiment and would leave our conclusion open to influence by confounding factors. Additionally, we wouldn't be able to determine if any differences we observed are typical due to chance variations alone."
   ]
  },
  {
   "cell_type": "markdown",
   "metadata": {},
   "source": [
    "### Question 3.2.\n",
    "\n",
    "Why is an A/B test appropriate for this situation? What would you use as the \"A\" group (the control group) and which group is the \"B\" group (the treatment group)?"
   ]
  },
  {
   "cell_type": "markdown",
   "metadata": {},
   "source": [
    "**SOLUTION:** An A/B test is appropriate because we are comparing 2 distributions of numerical data. The \"A\" group is full length rotors. The \"B\" group is the short rotors. "
   ]
  },
  {
   "cell_type": "markdown",
   "metadata": {},
   "source": [
    "### Question 3.3.\n",
    "\n",
    "Create a table `time_means` that contains the average fall time for the full length rotor helicopters and the shortened rotor helicopters. It should have two columns: one indicating the rotor length, and one that contains the average fall time for each group.\n",
    "\n",
    "**Hint:** Use a combination of `.select()` and `.group()` to make short work of this.\n",
    "\n",
    "```\n",
    "BEGIN QUESTION\n",
    "name: q3_3\n",
    "```"
   ]
  },
  {
   "cell_type": "code",
   "execution_count": null,
   "metadata": {},
   "outputs": [],
   "source": [
    "time_means = helicopters.select(\"Rotor\", \"Time\").group('Rotor', np.average) # SOLUTION\n",
    "time_means"
   ]
  },
  {
   "cell_type": "markdown",
   "metadata": {},
   "source": [
    "### Question 3.4\n",
    "\n",
    "We want to figure out if there is a difference between the distribution of fall times for full length and shortened rotor helicopters. Specifically, we want to test if fall times were longer for longer rotor helicopters than they were for shorter rotor helicopters. \n",
    "\n",
    "Define the following for this analysis:\n",
    "* Null hypothesis\n",
    "* Alternative hypothesis\n",
    "* Test statistic\n",
    "\n",
    "How does the test statistic help us differentiate whether the data supports the null and alternative? \n",
    "\n",
    "Confirm your answer with your instructor (or a classmate who already has) before moving on."
   ]
  },
  {
   "cell_type": "markdown",
   "metadata": {},
   "source": [
    "**SOLUTION:** We want to find the difference between the mean fall times. Large negative values of this difference support the alternative hypothesis. Small values support the null."
   ]
  },
  {
   "cell_type": "markdown",
   "metadata": {},
   "source": [
    "### Question 3.5.\n",
    "\n",
    "Calculate the test statistic for our observed data using the `time_means` table. Set `observed_difference` to the value you compute. \n",
    "\n",
    "```\n",
    "BEGIN QUESTION\n",
    "name: q3_5\n",
    "```"
   ]
  },
  {
   "cell_type": "code",
   "execution_count": null,
   "metadata": {},
   "outputs": [],
   "source": [
    "means = time_means.column(1)\n",
    "observed_difference = means.item(1) - means.item(0)\n",
    "observed_difference"
   ]
  },
  {
   "cell_type": "markdown",
   "metadata": {},
   "source": [
    "### Question 3.6\n",
    "\n",
    "To perform an A/B test, we'll need to compute similar statistics for our many simulations we'll run. Writing a function which returns the statistic will be a great way to save time. Write a function named `find_test_stat` which takes in the arguments `table`, `labels_col`, and `values_col` that calculates the test statistic for this problem. The `table` passed into this function will be a permutation of our original table and structured the same way. `labels_col` will be passed a string that specifies which column in the table contains the label you'll be grouping by. `values_col` specifies which column contains the values that you'll be using to compute the test statistic.\n",
    "\n",
    "When you've written this function, you can pass it any table and the two specified labels and it will compute a test statistic for an A/B test, not just for this problem, but any problem! A very handy function to keep around. \n",
    "\n",
    "Running `find_test_stat(helicopters, \"Rotor\", \"Time\")` should return the exact same value your code from the previous question computed: the difference between of average values in the \"Time column between the groups determined by \"Rotor\" column in the `helicopters` table. However, you should also be able to run `find_test_stat(helicopters, \"Weight\", \"Time\")` to compute the difference between of average values in the **\"Weight\"** column between the groups determined by \"Rotor\" column in the `helicopters` table just as easily. \n",
    "\n",
    "```\n",
    "BEGIN QUESTION\n",
    "name: q3_6\n",
    "```"
   ]
  },
  {
   "cell_type": "code",
   "execution_count": null,
   "metadata": {},
   "outputs": [],
   "source": [
    "def find_test_stat(table, labels_col, values_col):\n",
    "    # BEGIN SOLUTION\n",
    "    reduced = table.select(labels_col, values_col)\n",
    "    means_table = reduced.group(labels_col, np.average)\n",
    "    means = means_table.column(1)\n",
    "    return means.item(1) - means.item(0)\n",
    "    # END SOLUTION\n",
    "    \n",
    "find_test_stat(helicopters, \"Rotor\", \"Time\")"
   ]
  },
  {
   "cell_type": "markdown",
   "metadata": {},
   "source": [
    "When we run a simulation for A/B testing, we resample the data by shuffling the labels of the original sample. If the null hypothesis is true and the time distributions **are** the same, we expect that the difference in mean time will be not change when \"Rotor\" labels are changed."
   ]
  },
  {
   "cell_type": "markdown",
   "metadata": {},
   "source": [
    "### Question 3.7.\n",
    "\n",
    "Write a function `simulate_and_test_statistic` to compute one trial of our A/B test. Your function should run a simulation and return a test statistic.\n",
    "\n",
    "**Hint:** You can \"shuffle\" the labels by using `.sample(with_replacement = False)` on the table, and then just selected the column (as an array using `.column`) that contains the newly shuffled labels. Then, you can either overwrite the existing labels, or, extend the table with a new column labeled something like \"shuffled labels\". Just make sure you pass the correct label on to `find_test_stat`!"
   ]
  },
  {
   "cell_type": "code",
   "execution_count": null,
   "metadata": {},
   "outputs": [],
   "source": [
    "def simulate_and_test_statistic(table, labels_col, values_col):\n",
    "    shuffled_labels = table.sample(with_replacement = False).column(labels_col)\n",
    "    original_and_shuffled = table.with_column(\"shuffled labels\", shuffled_labels)\n",
    "    return find_test_stat(original_and_shuffled, \"shuffled labels\", values_col)\n",
    "\n",
    "simulate_and_test_statistic(helicopters, \"Rotor\", \"Time\")"
   ]
  },
  {
   "cell_type": "markdown",
   "metadata": {},
   "source": [
    "### Question 3.8\n",
    "\n",
    "Now that we can quickly shuffle the labels and compute a test statistic, simulate 5000 trials of our A/B test and store the test statistics in an array called `differences`"
   ]
  },
  {
   "cell_type": "code",
   "execution_count": null,
   "metadata": {},
   "outputs": [],
   "source": [
    "# This cell might take a couple seconds to run\n",
    "\n",
    "differences = make_array()\n",
    "repetitions = 5000\n",
    "\n",
    "for i in np.arange(repetitions):\n",
    "    new_difference = simulate_and_test_statistic(helicopters, \"Rotor\", \"Time\")\n",
    "    differences = np.append(differences, new_difference)\n",
    "\n",
    "differences"
   ]
  },
  {
   "cell_type": "markdown",
   "metadata": {},
   "source": [
    "Run the cell below to view a histogram of your simulated test statistics plotted with your observed test statistic."
   ]
  },
  {
   "cell_type": "code",
   "execution_count": null,
   "metadata": {},
   "outputs": [],
   "source": [
    "Table().with_column('Difference Between Group Means', differences).hist()\n",
    "plt.scatter(observed_difference, -0.01, color = 'red', s = 60, zorder = 2);"
   ]
  },
  {
   "cell_type": "markdown",
   "metadata": {},
   "source": [
    "### Question 3.9.\n",
    "\n",
    "Find the p-value for your test and assign it to `empirical_P`"
   ]
  },
  {
   "cell_type": "code",
   "execution_count": null,
   "metadata": {},
   "outputs": [],
   "source": [
    "empirical_P = np.count_nonzero(differences <= observed_difference) / repetitions\n",
    "empirical_P"
   ]
  },
  {
   "cell_type": "markdown",
   "metadata": {
    "tags": []
   },
   "source": [
    "### Question 3.10.\n",
    "\n",
    "Using a 1% P-value cutoff, draw a conclusion about the null and alternative hypotheses. Describe your findings using simple, non-technical language. What does your analysis tell you about fall times of helicopters with full length vs shortened rotors?"
   ]
  },
  {
   "cell_type": "markdown",
   "metadata": {},
   "source": [
    "**SOLUTION:** Our empirical p-value (I computed a value of 0.0394) is less than than the cutoff that was set at 0.01. The data from our simulation would support our alternative hypothesis, that rotor length"
   ]
  },
  {
   "cell_type": "markdown",
   "metadata": {},
   "source": [
    "## 4. Additional Investigation\n",
    "\n",
    "Suppose you're curious if the stairwell that similar helicopters were dropped from would cause a difference in drop times. Let's focus on one type of helicopter, the full size rotor and unweighted body, which was dropped from both stairwells. Run the code below to create a table called `stairwell` which will pare down the original data set to just this type of helicopter."
   ]
  },
  {
   "cell_type": "code",
   "execution_count": null,
   "metadata": {},
   "outputs": [],
   "source": [
    "stairwell = copters.where('Obstruction', False).where('Rotor', 'Long').where('Weight', 'Unweighted')\n",
    "stairwell"
   ]
  },
  {
   "cell_type": "markdown",
   "metadata": {},
   "source": [
    "Complete a similar analysis to:\n",
    "\n",
    "* compute the observed value of the test statistic\n",
    "* simulate 5000 A/B tests to create a distribution of the test statistic\n",
    "* compute the empirical p-value\n",
    "* determine if the stairwell caused a difference in the drop times\n"
   ]
  },
  {
   "cell_type": "code",
   "execution_count": null,
   "metadata": {},
   "outputs": [],
   "source": []
  }
 ],
 "metadata": {
  "kernelspec": {
   "display_name": "Python 3 (ipykernel)",
   "language": "python",
   "name": "python3"
  },
  "language_info": {
   "codemirror_mode": {
    "name": "ipython",
    "version": 3
   },
   "file_extension": ".py",
   "mimetype": "text/x-python",
   "name": "python",
   "nbconvert_exporter": "python",
   "pygments_lexer": "ipython3",
   "version": "3.9.6"
  }
 },
 "nbformat": 4,
 "nbformat_minor": 4
}
